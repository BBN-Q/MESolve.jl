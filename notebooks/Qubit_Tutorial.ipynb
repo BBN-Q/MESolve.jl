{
 "cells": [
  {
   "cell_type": "markdown",
   "metadata": {},
   "source": [
    "# Qubit tutorial for MESolve.jl."
   ]
  },
  {
   "cell_type": "markdown",
   "metadata": {},
   "source": [
    "This tutorial outlines various features of MESolve with the pragmatic example of a single qubit."
   ]
  },
  {
   "cell_type": "code",
   "execution_count": null,
   "metadata": {},
   "outputs": [],
   "source": [
    "using MESolve, PyPlot, LinearAlgebra, DifferentialEquations"
   ]
  },
  {
   "cell_type": "markdown",
   "metadata": {},
   "source": [
    "Create the time-independent part of the qubit Hamiltonian"
   ]
  },
  {
   "cell_type": "code",
   "execution_count": null,
   "metadata": {},
   "outputs": [],
   "source": [
    "H_z = [1.0 0.0;0.0 -1.0]/2"
   ]
  },
  {
   "cell_type": "markdown",
   "metadata": {},
   "source": [
    "Create the static dissipation, in this case simple excitation decay"
   ]
  },
  {
   "cell_type": "code",
   "execution_count": null,
   "metadata": {},
   "outputs": [],
   "source": [
    "rates = [0.01]; # Rate\n",
    "Gamma = zeros(2,2,1) # This is needed since MESolve expectes a 3D array for the decoherence operators\n",
    "Gamma[:,:,1] = [0.0 0.0; 1.0 0.0]; # Operator\n",
    "Gamma"
   ]
  },
  {
   "cell_type": "markdown",
   "metadata": {},
   "source": [
    "## Time-independent evolution: Qubit decay"
   ]
  },
  {
   "cell_type": "code",
   "execution_count": null,
   "metadata": {},
   "outputs": [],
   "source": [
    "rho_in = [1.0 0.0;0.0 0.0] # Excited state\n",
    "t0 = 0.0 # Initial time\n",
    "tf = 100.0 # Final time\n",
    "tvec, rho_out = me_solve_time_independent(rho_in,H_z,Gamma,rates,t0,tf);"
   ]
  },
  {
   "cell_type": "markdown",
   "metadata": {},
   "source": [
    "Let's examine the output"
   ]
  },
  {
   "cell_type": "code",
   "execution_count": null,
   "metadata": {},
   "outputs": [],
   "source": [
    "tvec"
   ]
  },
  {
   "cell_type": "code",
   "execution_count": null,
   "metadata": {},
   "outputs": [],
   "source": [
    "rho_out"
   ]
  },
  {
   "cell_type": "code",
   "execution_count": null,
   "metadata": {
    "scrolled": true
   },
   "outputs": [],
   "source": [
    "rho_out[1]"
   ]
  },
  {
   "cell_type": "code",
   "execution_count": null,
   "metadata": {},
   "outputs": [],
   "source": [
    "rho_out[end]"
   ]
  },
  {
   "cell_type": "markdown",
   "metadata": {},
   "source": [
    "Now let's plot the system energy as a function of time."
   ]
  },
  {
   "cell_type": "code",
   "execution_count": null,
   "metadata": {},
   "outputs": [],
   "source": [
    "energy = zeros(length(tvec))\n",
    "for ii = 1:1:length(tvec)\n",
    "    energy[ii] = tr(H_z*rho_out[ii])\n",
    "end"
   ]
  },
  {
   "cell_type": "code",
   "execution_count": null,
   "metadata": {},
   "outputs": [],
   "source": [
    "plot(tvec,energy,\"-k\",linewidth=3)\n",
    "xlabel(\"Time\",fontsize=12)\n",
    "ylabel(L\"$\\left<\\hat{H}_z\\right>$\",fontsize=12);"
   ]
  },
  {
   "cell_type": "markdown",
   "metadata": {},
   "source": [
    "Now let's control the output times"
   ]
  },
  {
   "cell_type": "code",
   "execution_count": null,
   "metadata": {},
   "outputs": [],
   "source": [
    "tstep = tf/10; # Default tstep = (tf-t0)/100\n",
    "tvec, rho_out = me_solve_time_independent(rho_in,H_z,Gamma,rates,t0,tf;tstep=tstep);"
   ]
  },
  {
   "cell_type": "code",
   "execution_count": null,
   "metadata": {},
   "outputs": [],
   "source": [
    "tvec"
   ]
  },
  {
   "cell_type": "code",
   "execution_count": null,
   "metadata": {},
   "outputs": [],
   "source": [
    "rho_out"
   ]
  },
  {
   "cell_type": "code",
   "execution_count": null,
   "metadata": {},
   "outputs": [],
   "source": [
    "energy = zeros(length(tvec))\n",
    "for ii = 1:1:length(tvec)\n",
    "    energy[ii] = tr(H_z*rho_out[ii])\n",
    "end"
   ]
  },
  {
   "cell_type": "code",
   "execution_count": null,
   "metadata": {
    "scrolled": false
   },
   "outputs": [],
   "source": [
    "plot(tvec,energy,\"-ks\",linewidth=3)\n",
    "xlabel(\"Time\",fontsize=12)\n",
    "ylabel(L\"$\\left<\\hat{H}_z\\right>$\",fontsize=12);"
   ]
  },
  {
   "cell_type": "markdown",
   "metadata": {},
   "source": [
    "Finally let's control the tolerance of the solver."
   ]
  },
  {
   "cell_type": "code",
   "execution_count": null,
   "metadata": {},
   "outputs": [],
   "source": [
    "tstep = tf/10; # Default tstep = (tf-t0)/100\n",
    "tvec, rho_out = me_solve_time_independent(rho_in,H_z,Gamma,rates,t0,tf;tstep=tstep,tols=[1e-8,1e-5]); \n",
    "# Default is tols = [1e-6,1e-5]"
   ]
  },
  {
   "cell_type": "code",
   "execution_count": null,
   "metadata": {},
   "outputs": [],
   "source": [
    "energy = zeros(length(tvec))\n",
    "for ii = 1:1:length(tvec)\n",
    "    energy[ii] = tr(H_z*rho_out[ii])\n",
    "end"
   ]
  },
  {
   "cell_type": "code",
   "execution_count": null,
   "metadata": {},
   "outputs": [],
   "source": [
    "plot(tvec,energy,\"-ks\",linewidth=3)\n",
    "xlabel(\"Time\",fontsize=12)\n",
    "ylabel(L\"$\\left<\\hat{H}_z\\right>$\",fontsize=12);"
   ]
  },
  {
   "cell_type": "markdown",
   "metadata": {},
   "source": [
    "You can also control the algorithm the differential equation solver uses, and Julia offers a wide variety of options. See https://docs.juliadiffeq.org/latest/solvers/ode_solve/ for a full list."
   ]
  },
  {
   "cell_type": "code",
   "execution_count": null,
   "metadata": {},
   "outputs": [],
   "source": [
    "# This is the default solver.\n",
    "tvec, rho_out = me_solve_time_independent(rho_in,H_z,Gamma,rates,t0,tf;tstep=tstep,tols=[1e-6,1e-3],alg = Tsit5()); "
   ]
  },
  {
   "cell_type": "markdown",
   "metadata": {},
   "source": [
    "The optional arguments discussed in the last three examples (time step, tolerance, and solver algorithm) can also be manually set in the time-dependent master equation solvers discussed in the following."
   ]
  },
  {
   "cell_type": "markdown",
   "metadata": {},
   "source": [
    "## Time-dependent Hamiltonian evolution: Driven qubit decay"
   ]
  },
  {
   "cell_type": "markdown",
   "metadata": {},
   "source": [
    "Now for some driven evolution. We'll do something less than clever to emphasize how this works. We'll drive a qubit resonantly, but not go to the rotating frame, so that the Hamiltonian remains time-dependent."
   ]
  },
  {
   "cell_type": "markdown",
   "metadata": {},
   "source": [
    "There are two ways to do time-dependent Hamiltonians. \n",
    "\n",
    "The first uses a matrix function to define the Hamiltonian at each point in time. This function must be defined in place, which means that it takes as its first argument a matrix of the same dimension of the Hamiltonian, and as it's second argument a scalar argument that is the time. The function should return nothing."
   ]
  },
  {
   "cell_type": "code",
   "execution_count": null,
   "metadata": {},
   "outputs": [],
   "source": [
    "function H_tot(H_temp::Array{ComplexF64,2},t::Float64)\n",
    "    H_temp[:,:] = H_z .+ 0.1*cos(t)*[0. 1.;1. 0.]\n",
    "    return nothing\n",
    "end"
   ]
  },
  {
   "cell_type": "code",
   "execution_count": null,
   "metadata": {},
   "outputs": [],
   "source": [
    "t0 = 0.0 # Initial time\n",
    "tf = 100.0 # Final time\n",
    "tvec, rho_out = me_solve_H_time_dependent(rho_in,H_tot,Gamma,rates,t0,tf);"
   ]
  },
  {
   "cell_type": "code",
   "execution_count": null,
   "metadata": {},
   "outputs": [],
   "source": [
    "tvec"
   ]
  },
  {
   "cell_type": "code",
   "execution_count": null,
   "metadata": {},
   "outputs": [],
   "source": [
    "rho_out"
   ]
  },
  {
   "cell_type": "code",
   "execution_count": null,
   "metadata": {},
   "outputs": [],
   "source": [
    "energy = zeros(length(tvec))\n",
    "for ii = 1:1:length(tvec)\n",
    "    energy[ii] = tr(H_z*rho_out[ii])\n",
    "end"
   ]
  },
  {
   "cell_type": "code",
   "execution_count": null,
   "metadata": {},
   "outputs": [],
   "source": [
    "plot(tvec,energy,\"-k\",linewidth=3)\n",
    "xlabel(\"Time\",fontsize=12)\n",
    "ylabel(L\"$\\left<\\hat{H}_z\\right>$\",fontsize=12);"
   ]
  },
  {
   "cell_type": "markdown",
   "metadata": {},
   "source": [
    "This looks as expected, and those extra small wiggles you see are from the counter-rotating terms, as explained below:\n",
    "\n",
    "$H = \\frac{\\omega}{2}\\sigma_z + f(t)\\sigma_x$\n",
    "\n",
    "$U = e^{-i\\frac{\\omega}{2}\\sigma_zt}$\n",
    "\n",
    "$\\psi' = U\\psi$\n",
    "\n",
    "$H' = U^\\dagger HU - iU^\\dagger(\\frac{d}{dt}U)$\n",
    "\n",
    "$H' = f(t)U^\\dagger\\sigma_xU = f(t)U^\\dagger(\\sigma_+ + \\sigma_-)U = f(t)(e^{i\\omega t}\\sigma_+ + e^{-i\\omega t}\\sigma_-)$\n",
    "\n",
    "$f(t) = \\alpha \\cos(\\omega t)$\n",
    "\n",
    "$H' = \\frac{\\alpha}{2}(\\sigma_+ + \\sigma_-) + \\frac{\\alpha}{2}(e^{2i\\omega t}\\sigma_+ + e^{-2i\\omega t}\\sigma_-)$"
   ]
  },
  {
   "cell_type": "markdown",
   "metadata": {},
   "source": [
    "Now we'll use the second way to simulate time-dependent Hamiltonians. This requires a 3D array that stores the matrices of an operator basis for the Hamiltonian, and a function that returns a vector given a scalar input (time). Each element of this output vector is the prefactor for the corresponding element of the matrix basis array. The basis does not have to be complete, you just need all the operators that have nonzero prefactor at some point in time.\n",
    "\n",
    "In other words, we describe our time-dependent Hamiltonian as\n",
    "\n",
    "$H(t) = \\sum_i f_i(t) H_i$\n",
    "\n",
    "and we compile all the matrices $H_i$ in a 3D array, and the $f_i(t)$ are the elements of the output vector of a function we define. I've been saying output of the function, but really this function also has to be defined in place, and outputs nothing.\n",
    "\n",
    "Let's see this with the same example as before, but this time dropping the counter rotating terms, so that we'll need three operators in our basis and a function that returns a 3-element vector."
   ]
  },
  {
   "cell_type": "code",
   "execution_count": null,
   "metadata": {},
   "outputs": [],
   "source": [
    "Hops = zeros(2,2,3)\n",
    "Hops[:,:,1] = [0. 0.;1. 0.]\n",
    "Hops[:,:,2] = [0. 1.;0. 0.]\n",
    "# Don't forget the static Hamiltonian\n",
    "Hops[:,:,3] = H_z \n",
    "\n",
    "function Hfunc(vec_out::Array{Complex{Float64},1},t::Float64) \n",
    "    vec_out[:] =[0.05*exp(1im*t),0.05*exp(-1im*t),1.0]\n",
    "   return nothing \n",
    "end"
   ]
  },
  {
   "cell_type": "code",
   "execution_count": null,
   "metadata": {},
   "outputs": [],
   "source": [
    "t0 = 0.0 # Initial time\n",
    "tf = 100.0 # Final time\n",
    "tvec, rho_out = me_solve_H_time_dependent(rho_in,Hops,Hfunc,Gamma,rates,t0,tf);"
   ]
  },
  {
   "cell_type": "code",
   "execution_count": null,
   "metadata": {},
   "outputs": [],
   "source": [
    "tvec"
   ]
  },
  {
   "cell_type": "code",
   "execution_count": null,
   "metadata": {},
   "outputs": [],
   "source": [
    "rho_out"
   ]
  },
  {
   "cell_type": "code",
   "execution_count": null,
   "metadata": {},
   "outputs": [],
   "source": [
    "energy = zeros(length(tvec))\n",
    "for ii = 1:1:length(tvec)\n",
    "    energy[ii] = tr(H_z*rho_out[ii])\n",
    "end"
   ]
  },
  {
   "cell_type": "code",
   "execution_count": null,
   "metadata": {},
   "outputs": [],
   "source": [
    "plot(tvec,energy,\"-k\",linewidth=3)\n",
    "xlabel(\"Time\",fontsize=12)\n",
    "ylabel(L\"$\\left<\\hat{H}_z\\right>$\",fontsize=12);"
   ]
  },
  {
   "cell_type": "markdown",
   "metadata": {},
   "source": [
    "## Time-dependent Hamiltonian and dissipator"
   ]
  },
  {
   "cell_type": "markdown",
   "metadata": {},
   "source": [
    "MESolve.jl also has functionality for a time-dependent dissipative evolution. Right now, the only way to implement this is with a 3D array storing a basis of Lindblad operators for a diagonal Lindblad equation, and a function outputing (actually outputing, not an in place function) a vector that contains the rates for each of those operators. This is similar to the second implementation of a time-dependent Hamiltonian described earlier, but is not fully general, since the basis of the diagonal Lindblad equation could also change as a function of time.\n",
    "\n",
    "We'll jump right ahead to implementing a time-dependent dissipative and Hamiltonian evolution. Due to historic reasons (i.e. the development of the MESolve.jl codebase), the only way to do this right now is with a matrix function for the Hamiltonian, which, unlike in the other solvers, should not be defined in place, while the dissipation uses the operator basis, rate vector encoding described earlier."
   ]
  },
  {
   "cell_type": "code",
   "execution_count": null,
   "metadata": {},
   "outputs": [],
   "source": [
    "function H_tot_2(t::Float64)\n",
    "    return H_z .+ 0.1*cos(t)*[0. 1.;1. 0.]\n",
    "end"
   ]
  },
  {
   "cell_type": "code",
   "execution_count": null,
   "metadata": {},
   "outputs": [],
   "source": [
    "rate_func(t::Float64) = [0.05]*tanh(t); # Time-dependent rate function\n",
    "Gamma = zeros(2,2,1) # This is needed since MESolve expects a 3D array for the decoherence operators\n",
    "Gamma[:,:,1] = [0.0 0.0; 1.0 0.0]; # Operator"
   ]
  },
  {
   "cell_type": "code",
   "execution_count": null,
   "metadata": {},
   "outputs": [],
   "source": [
    "t0 = 0.0 # Initial time\n",
    "tf = 100.0 # Final time\n",
    "tvec, rho_out = me_solve_full_time_dependent(rho_in,H_tot_2,Gamma,rate_func,t0,tf);"
   ]
  },
  {
   "cell_type": "code",
   "execution_count": null,
   "metadata": {},
   "outputs": [],
   "source": [
    "tvec"
   ]
  },
  {
   "cell_type": "code",
   "execution_count": null,
   "metadata": {},
   "outputs": [],
   "source": [
    "rho_out"
   ]
  },
  {
   "cell_type": "code",
   "execution_count": null,
   "metadata": {},
   "outputs": [],
   "source": [
    "energy = zeros(length(tvec))\n",
    "for ii = 1:1:length(tvec)\n",
    "    energy[ii] = real(tr(H_z*rho_out[ii])) \n",
    "    # This is a more complicated problem so the solver introduces a tiny amount of imaginary error.\n",
    "end"
   ]
  },
  {
   "cell_type": "code",
   "execution_count": null,
   "metadata": {},
   "outputs": [],
   "source": [
    "plot(tvec,energy,\"-k\",linewidth=3)\n",
    "xlabel(\"Time\",fontsize=12)\n",
    "ylabel(L\"$\\left<\\hat{H}_z\\right>$\",fontsize=12);"
   ]
  },
  {
   "cell_type": "code",
   "execution_count": null,
   "metadata": {},
   "outputs": [],
   "source": []
  }
 ],
 "metadata": {
  "@webio": {
   "lastCommId": null,
   "lastKernelId": null
  },
  "kernelspec": {
   "display_name": "Julia 1.3.0",
   "language": "julia",
   "name": "julia-1.3"
  },
  "language_info": {
   "file_extension": ".jl",
   "mimetype": "application/julia",
   "name": "julia",
   "version": "1.3.0"
  }
 },
 "nbformat": 4,
 "nbformat_minor": 2
}
