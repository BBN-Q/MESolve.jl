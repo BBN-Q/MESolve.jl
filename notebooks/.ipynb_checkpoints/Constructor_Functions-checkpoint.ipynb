{
 "cells": [
  {
   "cell_type": "markdown",
   "metadata": {},
   "source": [
    "## Constructor Function Tutorial for MESolve.jl"
   ]
  },
  {
   "cell_type": "markdown",
   "metadata": {},
   "source": [
    "This notebook outlines the functions used to construct the operators and static Hamiltonians for various quantum systems."
   ]
  },
  {
   "cell_type": "code",
   "execution_count": null,
   "metadata": {},
   "outputs": [],
   "source": [
    "using MESolve, LinearAlgebra"
   ]
  },
  {
   "cell_type": "markdown",
   "metadata": {},
   "source": [
    "#### Single Qubit"
   ]
  },
  {
   "cell_type": "markdown",
   "metadata": {},
   "source": [
    "We start with a single qubit. Even for such a simple system, there is a convention choice of whether the vector $(1,0)^T$ or $(0,1)^T$ is the excited state. Respectively, these correspond to the qubit static Hamiltonians\n",
    "\n",
    "$H = \\frac{\\omega}{2}\\sigma_z$\n",
    "\n",
    "and \n",
    "\n",
    "$H = -\\frac{\\omega}{2}\\sigma_z$.\n",
    "\n",
    "In MESolve, the choice of convention is controlled by the input variable to create_Qubit(). If no input variable is set, the first convention is assumed.\n",
    "\n",
    "create_Qubit() returns all the operators necessary to construct qubit Hamiltonians, but does not return the Hamiltonian itself."
   ]
  },
  {
   "cell_type": "code",
   "execution_count": null,
   "metadata": {
    "scrolled": true
   },
   "outputs": [],
   "source": [
    "X, Y, Z, σ_m, σ_p = create_Qubit(+1)"
   ]
  },
  {
   "cell_type": "markdown",
   "metadata": {},
   "source": [
    "Examining the lowering operator, we see that it conforms to the convention that $(1,0)^T$ is the excited state."
   ]
  },
  {
   "cell_type": "code",
   "execution_count": null,
   "metadata": {},
   "outputs": [],
   "source": [
    "σ_m"
   ]
  },
  {
   "cell_type": "markdown",
   "metadata": {},
   "source": [
    "As mentioned before, calling create_Qubit() without an argument does the same as above."
   ]
  },
  {
   "cell_type": "code",
   "execution_count": null,
   "metadata": {},
   "outputs": [],
   "source": [
    "X, Y, Z, σ_m, σ_p = create_Qubit(+1)"
   ]
  },
  {
   "cell_type": "code",
   "execution_count": null,
   "metadata": {},
   "outputs": [],
   "source": [
    "σ_m"
   ]
  },
  {
   "cell_type": "markdown",
   "metadata": {},
   "source": [
    "The other convention looks as follows."
   ]
  },
  {
   "cell_type": "code",
   "execution_count": null,
   "metadata": {},
   "outputs": [],
   "source": [
    "X2, Y2, Z2, σ_m2, σ_p2 = create_Qubit(-1)"
   ]
  },
  {
   "cell_type": "code",
   "execution_count": null,
   "metadata": {
    "scrolled": true
   },
   "outputs": [],
   "source": [
    "σ_m2"
   ]
  },
  {
   "cell_type": "markdown",
   "metadata": {},
   "source": [
    "#### Qubit Networks"
   ]
  },
  {
   "cell_type": "markdown",
   "metadata": {},
   "source": [
    "Now if we want to create the Hamiltonian of a qubit network, we can use the function create_Qubit_network(), which has two required inputs.\n",
    "\n",
    "1. A vector of the qubit frequencies.\n",
    "2. A matrix of the (complex) coupling rates between qubits. Only the upper triangle of this matrix is used (the diagonal should be all zeros), and the creation ensures the final Hamiltonian is Hermitian.\n",
    "\n",
    "There are four options for the coupling, set by the optional string argument Ctype:\n",
    "\n",
    "1. Ctype = \"XX\" is $\\sigma_x\\otimes\\sigma_x$ coupling\n",
    "2. Ctype = \"YY\" is $\\sigma_y\\otimes\\sigma_y$ coupling\n",
    "3. Ctype = \"ZZ\" is $\\sigma_z\\otimes\\sigma_z$ coupling\n",
    "4. Ctype = \"flipflop\" is $\\sigma_+\\otimes\\sigma_-$ coupling. This is default.\n",
    "\n",
    "For flip-flop coupling it's important to note that the [j,k] element of the coupling matrix is multipled by the operator $\\sigma^{(j)}_+\\otimes\\sigma^{(k)}_-$.\n",
    "\n",
    "Note that the coupling is always of the same type across the network you create. If you want subnetworks with different types of coupling, you'll have to create their Hamiltonians independently and then merge them together using the tensor product.\n",
    "\n",
    "Finally, you can set the convention for the qubit states by the optional integer argument conv, where conv = 1 by default.\n",
    "\n",
    "Let's create a two-qubit network."
   ]
  },
  {
   "cell_type": "code",
   "execution_count": null,
   "metadata": {},
   "outputs": [],
   "source": [
    "ωs = [5.0,6.0] # Can you tell this notebook is written by a superconducting qubit theorist?\n",
    "gs = [0.0 0.1;0.0 0.0]\n",
    "Hzz = create_Qubit_network(ωs,gs;Ctype=\"ZZ\",conv=1)"
   ]
  },
  {
   "cell_type": "code",
   "execution_count": null,
   "metadata": {},
   "outputs": [],
   "source": [
    "Hxx = create_Qubit_network(ωs,gs;Ctype=\"XX\",conv=1)"
   ]
  },
  {
   "cell_type": "code",
   "execution_count": null,
   "metadata": {},
   "outputs": [],
   "source": [
    "H_flipflop = create_Qubit_network(ωs,gs;Ctype=\"flipflop\",conv=1)"
   ]
  },
  {
   "cell_type": "markdown",
   "metadata": {},
   "source": [
    "There is also an inplace version of create_Qubit_network for those of you conscious about memory allocations."
   ]
  },
  {
   "cell_type": "code",
   "execution_count": null,
   "metadata": {},
   "outputs": [],
   "source": [
    "H_inplace = zeros(ComplexF64,4,4)\n",
    "create_Qubit_network(H_inplace,ωs,1im*gs;Ctype=\"flipflop\",conv=1)\n",
    "H_inplace"
   ]
  },
  {
   "cell_type": "markdown",
   "metadata": {},
   "source": [
    "Note that in the above the coupling was changed from purely real (as in the previous examples) to purely imaginary to demonstrate \n",
    "\n",
    "i) that the Hamiltonian produced is indeed Hermitian\n",
    "\n",
    "ii) the importance of preallocating a matrix with the correct type. Try running the above code with H_inplace = zeros(4,4) instead."
   ]
  },
  {
   "cell_type": "markdown",
   "metadata": {},
   "source": [
    "#### Harmonic Oscillators"
   ]
  },
  {
   "cell_type": "markdown",
   "metadata": {},
   "source": [
    "Analogously to the qubit constructor, the constructor for a single harmonic oscillator, create_HO(dim), returns the lowering, raising, and number operator for a harmonic oscillator with a basis of dimesnion dim, i.e. truncating Fock space at dim - 1 photons."
   ]
  },
  {
   "cell_type": "code",
   "execution_count": null,
   "metadata": {},
   "outputs": [],
   "source": [
    "a, a_dag, num = create_HO(5)"
   ]
  },
  {
   "cell_type": "code",
   "execution_count": null,
   "metadata": {},
   "outputs": [],
   "source": [
    "a"
   ]
  },
  {
   "cell_type": "markdown",
   "metadata": {},
   "source": [
    "#### HO Networks\n",
    "\n",
    "We can also create HO networks with similar syntax as for qubit networks. As in the qubit case, the function create_HO_network() returns the Hamiltonian for the network. Only flipflop style coupling is supported, and an inplace version of this function is also available.\n",
    "\n",
    "Let's create a two oscillator network."
   ]
  },
  {
   "cell_type": "code",
   "execution_count": null,
   "metadata": {},
   "outputs": [],
   "source": [
    "ωs = [5.0,6.0]\n",
    "gs = [0.0 0.1;0.0 0.0]\n",
    "H_ho = create_HO_network(3,ωs,gs)"
   ]
  },
  {
   "cell_type": "markdown",
   "metadata": {},
   "source": [
    "#### Nonlinear Oscillator Networks\n",
    "\n",
    "Networks of Kerr parametric oscillators can also be constructed with create_KPO_network(). This adds two additional input variables to that used in create_HO_network()\n",
    "\n",
    "1. An array that contains the (complex) parametric drive amplitudes (single- and two-mode squeezing) of the network. As before, only the upper triangle is used, but now the diagonal can be nonzero as it describes single mode squeezing. The [j,k] term of this array is the coefficient for the operator $a^\\dagger_j \\otimes a^\\dagger_k$ in the Hamiltonian.\n",
    "\n",
    "2. An array that contains the (real-valued) rates for the self- and cross Kerr interactions. Self Kerr along the diagonal, and cross Kerr in the upper triangle. The [j,k] term of this array is the coefficient for the operator $n_j \\otimes n_k$ in the Hamiltonian, where $n = a^\\dagger a$. Note that this is not normal ordered for $j = k$.\n",
    "\n",
    "An inplace version of this function also exists.\n",
    "\n",
    "Let's create a two KPO network."
   ]
  },
  {
   "cell_type": "code",
   "execution_count": null,
   "metadata": {},
   "outputs": [],
   "source": [
    "ωs = [5.0,6.0]\n",
    "gs = [0.0 0.1;0.0 0.0]\n",
    "λs = [0.3 1im*0.2;0.0 0.4]\n",
    "Ks = [0.5 0.6;0.0 0.7]\n",
    "H_kpo = create_KPO_network(3,ωs,gs,λs,Ks)"
   ]
  },
  {
   "cell_type": "code",
   "execution_count": null,
   "metadata": {},
   "outputs": [],
   "source": []
  }
 ],
 "metadata": {
  "@webio": {
   "lastCommId": null,
   "lastKernelId": null
  },
  "kernelspec": {
   "display_name": "Julia 1.3.0",
   "language": "julia",
   "name": "julia-1.3"
  },
  "language_info": {
   "file_extension": ".jl",
   "mimetype": "application/julia",
   "name": "julia",
   "version": "1.3.0"
  }
 },
 "nbformat": 4,
 "nbformat_minor": 2
}
