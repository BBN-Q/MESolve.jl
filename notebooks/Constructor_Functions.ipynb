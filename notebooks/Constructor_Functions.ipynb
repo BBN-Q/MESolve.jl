{
 "cells": [
  {
   "cell_type": "markdown",
   "metadata": {},
   "source": [
    "## Constructor Function Tutorial for MESolve.jl"
   ]
  },
  {
   "cell_type": "markdown",
   "metadata": {},
   "source": [
    "This notebook outlines the functions used to construct the operators and static Hamiltonians for various quantum systems."
   ]
  },
  {
   "cell_type": "code",
   "execution_count": 1,
   "metadata": {},
   "outputs": [],
   "source": [
    "using MESolve, LinearAlgebra"
   ]
  },
  {
   "cell_type": "markdown",
   "metadata": {},
   "source": [
    "#### Single Qubit"
   ]
  },
  {
   "cell_type": "markdown",
   "metadata": {},
   "source": [
    "We start with a single qubit. Even for such a simple system, there is a convention choice of whether the vector $(1,0)^T$ or $(0,1)^T$ is the excited state. Respectively, these correspond to the qubit static Hamiltonians\n",
    "\n",
    "$H = \\frac{\\omega}{2}\\sigma_z$\n",
    "\n",
    "and \n",
    "\n",
    "$H = -\\frac{\\omega}{2}\\sigma_z$.\n",
    "\n",
    "In MESolve, the choice of convention is controlled by the input variable to create_Qubit(). If no input variable is set, the first convention is assumed.\n",
    "\n",
    "create_Qubit() returns all the operators necessary to construct qubit Hamiltonians, but does not return the Hamiltonian itself."
   ]
  },
  {
   "cell_type": "code",
   "execution_count": 2,
   "metadata": {
    "scrolled": true
   },
   "outputs": [
    {
     "data": {
      "text/plain": [
       "([0.0 1.0; 1.0 0.0], Complex{Float64}[0.0 + 0.0im 0.0 - 1.0im; 0.0 + 1.0im 0.0 + 0.0im], [1.0 0.0; 0.0 -1.0], Complex{Float64}[0.0 - 0.0im 0.0 - 0.0im; 1.0 - 0.0im 0.0 - 0.0im], Complex{Float64}[0.0 + 0.0im 1.0 + 0.0im; 0.0 + 0.0im 0.0 + 0.0im])"
      ]
     },
     "execution_count": 2,
     "metadata": {},
     "output_type": "execute_result"
    }
   ],
   "source": [
    "X, Y, Z, σ_m, σ_p = create_Qubit(+1)"
   ]
  },
  {
   "cell_type": "markdown",
   "metadata": {},
   "source": [
    "Examining the lowering operator, we see that it conforms to the convention that $(1,0)^T$ is the excited state."
   ]
  },
  {
   "cell_type": "code",
   "execution_count": 5,
   "metadata": {},
   "outputs": [
    {
     "data": {
      "text/plain": [
       "2×2 Array{Complex{Float64},2}:\n",
       " 0.0-0.0im  0.0-0.0im\n",
       " 1.0-0.0im  0.0-0.0im"
      ]
     },
     "execution_count": 5,
     "metadata": {},
     "output_type": "execute_result"
    }
   ],
   "source": [
    "σ_m"
   ]
  },
  {
   "cell_type": "markdown",
   "metadata": {},
   "source": [
    "As mentioned before, calling create_Qubit() without an argument does the same as above."
   ]
  },
  {
   "cell_type": "code",
   "execution_count": 6,
   "metadata": {},
   "outputs": [
    {
     "data": {
      "text/plain": [
       "([0.0 1.0; 1.0 0.0], Complex{Float64}[0.0 + 0.0im 0.0 - 1.0im; 0.0 + 1.0im 0.0 + 0.0im], [1.0 0.0; 0.0 -1.0], Complex{Float64}[0.0 - 0.0im 0.0 - 0.0im; 1.0 - 0.0im 0.0 - 0.0im], Complex{Float64}[0.0 + 0.0im 1.0 + 0.0im; 0.0 + 0.0im 0.0 + 0.0im])"
      ]
     },
     "execution_count": 6,
     "metadata": {},
     "output_type": "execute_result"
    }
   ],
   "source": [
    "X, Y, Z, σ_m, σ_p = create_Qubit(+1)"
   ]
  },
  {
   "cell_type": "code",
   "execution_count": 7,
   "metadata": {},
   "outputs": [
    {
     "data": {
      "text/plain": [
       "2×2 Array{Complex{Float64},2}:\n",
       " 0.0-0.0im  0.0-0.0im\n",
       " 1.0-0.0im  0.0-0.0im"
      ]
     },
     "execution_count": 7,
     "metadata": {},
     "output_type": "execute_result"
    }
   ],
   "source": [
    "σ_m"
   ]
  },
  {
   "cell_type": "markdown",
   "metadata": {},
   "source": [
    "The other convention looks as follows."
   ]
  },
  {
   "cell_type": "code",
   "execution_count": 8,
   "metadata": {},
   "outputs": [
    {
     "data": {
      "text/plain": [
       "([0.0 1.0; 1.0 0.0], Complex{Float64}[0.0 + 0.0im 0.0 - 1.0im; 0.0 + 1.0im 0.0 + 0.0im], [1.0 0.0; 0.0 -1.0], Complex{Float64}[0.0 - 0.0im 1.0 + 0.0im; 0.0 - 0.0im 0.0 - 0.0im], Complex{Float64}[0.0 + 0.0im 0.0 + 0.0im; 1.0 - 0.0im 0.0 + 0.0im])"
      ]
     },
     "execution_count": 8,
     "metadata": {},
     "output_type": "execute_result"
    }
   ],
   "source": [
    "X2, Y2, Z2, σ_m2, σ_p2 = create_Qubit(-1)"
   ]
  },
  {
   "cell_type": "code",
   "execution_count": 9,
   "metadata": {
    "scrolled": true
   },
   "outputs": [
    {
     "data": {
      "text/plain": [
       "2×2 Array{Complex{Float64},2}:\n",
       " 0.0-0.0im  1.0+0.0im\n",
       " 0.0-0.0im  0.0-0.0im"
      ]
     },
     "execution_count": 9,
     "metadata": {},
     "output_type": "execute_result"
    }
   ],
   "source": [
    "σ_m2"
   ]
  },
  {
   "cell_type": "markdown",
   "metadata": {},
   "source": [
    "#### Qubit Networks"
   ]
  },
  {
   "cell_type": "markdown",
   "metadata": {},
   "source": [
    "Now if we want to create the Hamiltonian of a qubit network, we can use the function create_Qubit_network(), which has two required inputs.\n",
    "\n",
    "1. A vector of the qubit frequencies.\n",
    "2. A matrix of the (complex) coupling rates between qubits. Only the upper triangle of this matrix is used (the diagonal should be all zeros), and the creation ensures the final Hamiltonian is Hermitian.\n",
    "\n",
    "There are four options for the coupling, set by the optional string argument Ctype:\n",
    "\n",
    "1. type = \"XX\" is $\\sigma_x\\otimes\\sigma_x$ coupling\n",
    "2. type = \"YY\" is $\\sigma_y\\otimes\\sigma_y$ coupling\n",
    "3. type = \"ZZ\" is $\\sigma_z\\otimes\\sigma_z$ coupling\n",
    "4. type = \"flipflop\" is $\\sigma_+\\otimes\\sigma_-$ coupling. This is default.\n",
    "\n",
    "For flip-flop coupling it's important to note that the [j,k] element of the coupling matrix is multipled by the operator $\\sigma^{(j)}_+\\otimes\\sigma^{(k)}_-$.\n",
    "\n",
    "Finally, you can set the convention by the optional integer argument conv, where conv = 1 by default."
   ]
  },
  {
   "cell_type": "code",
   "execution_count": null,
   "metadata": {},
   "outputs": [],
   "source": []
  }
 ],
 "metadata": {
  "kernelspec": {
   "display_name": "Julia 1.3.0",
   "language": "julia",
   "name": "julia-1.3"
  },
  "language_info": {
   "file_extension": ".jl",
   "mimetype": "application/julia",
   "name": "julia",
   "version": "1.3.0"
  }
 },
 "nbformat": 4,
 "nbformat_minor": 2
}
